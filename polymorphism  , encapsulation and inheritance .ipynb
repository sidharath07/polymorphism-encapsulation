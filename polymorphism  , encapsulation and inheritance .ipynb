{
 "cells": [
  {
   "cell_type": "code",
   "execution_count": 1,
   "id": "606fb608-e86e-40cf-b9a0-a03ea2b2ebe4",
   "metadata": {},
   "outputs": [],
   "source": [
    "def test(a,b):\n",
    "    return a+b"
   ]
  },
  {
   "cell_type": "code",
   "execution_count": 2,
   "id": "72f59aea-3bdd-4d4a-adda-11b7c3d3579b",
   "metadata": {},
   "outputs": [
    {
     "data": {
      "text/plain": [
       "8"
      ]
     },
     "execution_count": 2,
     "metadata": {},
     "output_type": "execute_result"
    }
   ],
   "source": [
    "test(3,5)"
   ]
  },
  {
   "cell_type": "code",
   "execution_count": 3,
   "id": "cacd02fc-887a-48ad-93a6-ac30971ae463",
   "metadata": {},
   "outputs": [
    {
     "data": {
      "text/plain": [
       "'sidharth kumar'"
      ]
     },
     "execution_count": 3,
     "metadata": {},
     "output_type": "execute_result"
    }
   ],
   "source": [
    "test(\"sidharth \"  , \"kumar\")"
   ]
  },
  {
   "cell_type": "code",
   "execution_count": 4,
   "id": "b42c5542-9e42-4f60-8e69-60d3230f6c33",
   "metadata": {},
   "outputs": [
    {
     "data": {
      "text/plain": [
       "[1, 2, 3, 4, 5, 6, 7, 25, 43, 54, 7, 8]"
      ]
     },
     "execution_count": 4,
     "metadata": {},
     "output_type": "execute_result"
    }
   ],
   "source": [
    "test([1,2,3,4,5,6,7] , [25,43,54,7,8])"
   ]
  },
  {
   "cell_type": "code",
   "execution_count": 5,
   "id": "4c5da69d-6097-463d-a94f-14e6fc703e7c",
   "metadata": {},
   "outputs": [],
   "source": [
    "# polymorphism :- he works diffrent type of behiver of diffrent type of sitution that is colled polymorphism"
   ]
  },
  {
   "cell_type": "code",
   "execution_count": 6,
   "id": "9f4c7d04-03db-41a9-a1f5-063589deaff6",
   "metadata": {},
   "outputs": [],
   "source": [
    "class data_science :\n",
    "    \n",
    "    def syllabus(self):\n",
    "        print(\"this is my syllabus for data science masters\")"
   ]
  },
  {
   "cell_type": "code",
   "execution_count": 7,
   "id": "77dcaa9c-832e-487d-9c39-5ba2aee2abb2",
   "metadata": {},
   "outputs": [],
   "source": [
    "class web_dev :\n",
    "    \n",
    "    def syllabus(self):\n",
    "        print(\"this is my syllabus for web_dev\")"
   ]
  },
  {
   "cell_type": "code",
   "execution_count": 8,
   "id": "57531d7c-99bb-41a7-b1dd-7170de0dd53c",
   "metadata": {},
   "outputs": [],
   "source": [
    "def class_parcer(class_obj):\n",
    "    for i in class_obj :\n",
    "        i.syllabus()"
   ]
  },
  {
   "cell_type": "code",
   "execution_count": 9,
   "id": "5b6cfe41-9dbf-4b44-9276-2962bed33065",
   "metadata": {},
   "outputs": [],
   "source": [
    "data_science = data_science() "
   ]
  },
  {
   "cell_type": "code",
   "execution_count": 10,
   "id": "5b465deb-8e18-4163-ba45-707c1321ca5f",
   "metadata": {},
   "outputs": [],
   "source": [
    "web_dev = web_dev()"
   ]
  },
  {
   "cell_type": "code",
   "execution_count": 11,
   "id": "de1c9b3d-8e37-4510-aef3-a23be0f87835",
   "metadata": {},
   "outputs": [],
   "source": [
    "class_obj = [data_science , web_dev]"
   ]
  },
  {
   "cell_type": "code",
   "execution_count": 12,
   "id": "88976f65-8098-45a9-b27c-2e10fb56cd38",
   "metadata": {},
   "outputs": [
    {
     "name": "stdout",
     "output_type": "stream",
     "text": [
      "this is my syllabus for data science masters\n",
      "this is my syllabus for web_dev\n"
     ]
    }
   ],
   "source": [
    "class_parcer(class_obj)"
   ]
  },
  {
   "cell_type": "code",
   "execution_count": 1,
   "id": "f84f8725-4942-440e-bd90-acffc8a4f27c",
   "metadata": {},
   "outputs": [],
   "source": [
    "# encapsulation "
   ]
  },
  {
   "cell_type": "code",
   "execution_count": 2,
   "id": "178a7a3e-8c1a-40a7-b4f7-3d9d9170cd40",
   "metadata": {},
   "outputs": [],
   "source": [
    "class test :\n",
    "    \n",
    "    def __init__(self, a , b):\n",
    "        self.a = a\n",
    "        self.b = b"
   ]
  },
  {
   "cell_type": "code",
   "execution_count": 10,
   "id": "f09821e9-8832-4ca3-8261-2990adfbe2e4",
   "metadata": {},
   "outputs": [],
   "source": [
    "t = test(23,45)"
   ]
  },
  {
   "cell_type": "code",
   "execution_count": 11,
   "id": "b306eb7e-261a-4d00-9263-dbc08de2d0fb",
   "metadata": {},
   "outputs": [],
   "source": [
    "t.a = 345678"
   ]
  },
  {
   "cell_type": "code",
   "execution_count": 12,
   "id": "3dd181f5-08ec-4688-92a2-8ac793e3066d",
   "metadata": {},
   "outputs": [
    {
     "data": {
      "text/plain": [
       "345678"
      ]
     },
     "execution_count": 12,
     "metadata": {},
     "output_type": "execute_result"
    }
   ],
   "source": [
    "t.a"
   ]
  },
  {
   "cell_type": "code",
   "execution_count": 13,
   "id": "2450226f-cb7b-44fd-97d4-2ff9b8f3f195",
   "metadata": {},
   "outputs": [],
   "source": [
    "t.b = 8765321"
   ]
  },
  {
   "cell_type": "code",
   "execution_count": 14,
   "id": "b4007797-8fbb-46bd-bf8f-557b6acbf190",
   "metadata": {},
   "outputs": [
    {
     "data": {
      "text/plain": [
       "8765321"
      ]
     },
     "execution_count": 14,
     "metadata": {},
     "output_type": "execute_result"
    }
   ],
   "source": [
    "t.b"
   ]
  },
  {
   "cell_type": "code",
   "execution_count": 12,
   "id": "49e440af-a0f3-4142-ba67-0ae30e53ddd9",
   "metadata": {},
   "outputs": [],
   "source": [
    "class car :\n",
    "    \n",
    "    \n",
    "    def __init__(self , year , make , model , speed ):\n",
    "        self.__year = year\n",
    "        self.__make = make \n",
    "        self.__model = model\n",
    "        self.__speed = 0\n",
    "        \n",
    "    def set_speed(self,speed):\n",
    "        self.__speed = 0 if speed < 0 else speed\n",
    "        \n",
    "    def get_speed(self):\n",
    "        return self.__speed\n",
    "        \n",
    "        "
   ]
  },
  {
   "cell_type": "code",
   "execution_count": 13,
   "id": "adada7f6-8fee-4161-aa9b-d6392958c87e",
   "metadata": {},
   "outputs": [],
   "source": [
    "b = car(2023 , \"toyata\" , \"innova\" , 34)"
   ]
  },
  {
   "cell_type": "code",
   "execution_count": 14,
   "id": "e98888da-f1f9-4fff-b110-95a9dcf9daed",
   "metadata": {},
   "outputs": [
    {
     "data": {
      "text/plain": [
       "2023"
      ]
     },
     "execution_count": 14,
     "metadata": {},
     "output_type": "execute_result"
    }
   ],
   "source": [
    "b._car__year"
   ]
  },
  {
   "cell_type": "code",
   "execution_count": 15,
   "id": "4e139b5c-bd8f-427f-8e31-83637c446b71",
   "metadata": {},
   "outputs": [
    {
     "data": {
      "text/plain": [
       "'innova'"
      ]
     },
     "execution_count": 15,
     "metadata": {},
     "output_type": "execute_result"
    }
   ],
   "source": [
    "b._car__model"
   ]
  },
  {
   "cell_type": "code",
   "execution_count": 16,
   "id": "9793b52f-c011-4400-9b56-ab477d357aa4",
   "metadata": {},
   "outputs": [],
   "source": [
    "b.set_speed(-345)"
   ]
  },
  {
   "cell_type": "code",
   "execution_count": 17,
   "id": "f4e7f0f2-6782-4a5e-a65f-000cc54dc881",
   "metadata": {},
   "outputs": [
    {
     "data": {
      "text/plain": [
       "0"
      ]
     },
     "execution_count": 17,
     "metadata": {},
     "output_type": "execute_result"
    }
   ],
   "source": [
    "b.get_speed()"
   ]
  },
  {
   "cell_type": "code",
   "execution_count": 18,
   "id": "a1205507-1b6c-4980-8b8b-67c0771fae80",
   "metadata": {},
   "outputs": [],
   "source": [
    "b.set_speed(45)"
   ]
  },
  {
   "cell_type": "code",
   "execution_count": 19,
   "id": "71412a9a-3469-4469-bce3-48df82d4c516",
   "metadata": {},
   "outputs": [
    {
     "data": {
      "text/plain": [
       "45"
      ]
     },
     "execution_count": 19,
     "metadata": {},
     "output_type": "execute_result"
    }
   ],
   "source": [
    "b.get_speed()"
   ]
  },
  {
   "cell_type": "code",
   "execution_count": 20,
   "id": "c61f030d-82c0-4913-a379-88fbf94851f1",
   "metadata": {},
   "outputs": [],
   "source": [
    "class bank_account :\n",
    "    def __init__(self , balanace) :\n",
    "        self.__balanace = balanace \n",
    "        \n",
    "    def deposite(self, amount):\n",
    "        self.__balanace = self.__balanace + amount\n",
    "    \n",
    "    def withdaw(self, amount) :\n",
    "        if self.__balanace >= amount :\n",
    "            self.___balanace = self.__balanace - amount\n",
    "            return true\n",
    "        else :\n",
    "            return false\n",
    "    def get_balanace(self):\n",
    "        return self.__balanace"
   ]
  },
  {
   "cell_type": "code",
   "execution_count": 21,
   "id": "5f0a62ad-9c85-4859-a497-1cb84a69f9c7",
   "metadata": {},
   "outputs": [],
   "source": [
    "sid = bank_account(2000)"
   ]
  },
  {
   "cell_type": "code",
   "execution_count": 22,
   "id": "7cda1afa-de9c-4155-a4b9-cb22607c89bf",
   "metadata": {},
   "outputs": [
    {
     "data": {
      "text/plain": [
       "2000"
      ]
     },
     "execution_count": 22,
     "metadata": {},
     "output_type": "execute_result"
    }
   ],
   "source": [
    "sid.get_balanace()"
   ]
  },
  {
   "cell_type": "code",
   "execution_count": 23,
   "id": "6677da72-1817-441c-b332-d506f2f4e396",
   "metadata": {},
   "outputs": [],
   "source": [
    "sid.deposite(70000)"
   ]
  },
  {
   "cell_type": "code",
   "execution_count": 24,
   "id": "1de81f75-e946-4972-9dbe-4c35031dfc5d",
   "metadata": {},
   "outputs": [
    {
     "data": {
      "text/plain": [
       "72000"
      ]
     },
     "execution_count": 24,
     "metadata": {},
     "output_type": "execute_result"
    }
   ],
   "source": [
    "sid.get_balanace()"
   ]
  },
  {
   "cell_type": "code",
   "execution_count": 28,
   "id": "96e1efac-ccc5-4148-8d20-7f5cbef83262",
   "metadata": {},
   "outputs": [],
   "source": [
    "# inheritance concept : - simple concept reuse of function in onther class that is colled inheritance"
   ]
  },
  {
   "cell_type": "code",
   "execution_count": 34,
   "id": "439f3663-4e8c-41ee-950d-218bfb19d85a",
   "metadata": {},
   "outputs": [],
   "source": [
    "class test :\n",
    "    \n",
    "    def test_math(self):\n",
    "        return \"this is my first class\""
   ]
  },
  {
   "cell_type": "code",
   "execution_count": 35,
   "id": "92a142cc-c81b-4edd-9be6-e43cb49f5a31",
   "metadata": {},
   "outputs": [],
   "source": [
    "class child_test(test):\n",
    "    pass"
   ]
  },
  {
   "cell_type": "code",
   "execution_count": 36,
   "id": "4a41980d-71de-47ec-9590-6f2628ecccf9",
   "metadata": {},
   "outputs": [],
   "source": [
    "child_test_obj = child_test()"
   ]
  },
  {
   "cell_type": "code",
   "execution_count": 37,
   "id": "58b8cc53-b294-4e60-8807-a66a99797bb4",
   "metadata": {},
   "outputs": [
    {
     "data": {
      "text/plain": [
       "'this is my first class'"
      ]
     },
     "execution_count": 37,
     "metadata": {},
     "output_type": "execute_result"
    }
   ],
   "source": [
    "child_test_obj.test_math()"
   ]
  },
  {
   "cell_type": "code",
   "execution_count": 38,
   "id": "92b632c7-070a-4bc2-a2e6-53e7417c2463",
   "metadata": {},
   "outputs": [],
   "source": [
    "# lets see multilabe ingeritace"
   ]
  },
  {
   "cell_type": "code",
   "execution_count": 44,
   "id": "8dff1420-5140-4031-ac64-06dc599bba2e",
   "metadata": {},
   "outputs": [],
   "source": [
    "class class1:\n",
    "    def test_class1(self):\n",
    "        return \"this is my class of python\""
   ]
  },
  {
   "cell_type": "code",
   "execution_count": 45,
   "id": "407d40d7-897d-4de0-9cae-fe53d619758c",
   "metadata": {},
   "outputs": [],
   "source": [
    "class class2(class1):\n",
    "    def test_class2(self):\n",
    "        return \"this is my class of english\""
   ]
  },
  {
   "cell_type": "code",
   "execution_count": 46,
   "id": "0746c8cd-c61e-4f84-bc68-4d9ac67c0966",
   "metadata": {},
   "outputs": [],
   "source": [
    "class class3(class2):\n",
    "    pass"
   ]
  },
  {
   "cell_type": "code",
   "execution_count": 47,
   "id": "cb6a609e-44e1-47cf-95a2-85ac48251b9e",
   "metadata": {},
   "outputs": [],
   "source": [
    "obj_class3 = class3()"
   ]
  },
  {
   "cell_type": "code",
   "execution_count": 49,
   "id": "08ae16dd-c1b3-484d-8dce-0d46ff56fe6a",
   "metadata": {},
   "outputs": [
    {
     "data": {
      "text/plain": [
       "'this is my class of python'"
      ]
     },
     "execution_count": 49,
     "metadata": {},
     "output_type": "execute_result"
    }
   ],
   "source": [
    "obj_class3.test_class1()"
   ]
  },
  {
   "cell_type": "code",
   "execution_count": 50,
   "id": "3a0867aa-83d0-46b3-94e2-118a89f1ba78",
   "metadata": {},
   "outputs": [
    {
     "data": {
      "text/plain": [
       "'this is my class of english'"
      ]
     },
     "execution_count": 50,
     "metadata": {},
     "output_type": "execute_result"
    }
   ],
   "source": [
    "obj_class3.test_class2()"
   ]
  },
  {
   "cell_type": "code",
   "execution_count": 51,
   "id": "d9221193-4c83-4f81-b1c1-332c92388dc2",
   "metadata": {},
   "outputs": [],
   "source": [
    "# multiple inheritance"
   ]
  },
  {
   "cell_type": "code",
   "execution_count": 52,
   "id": "e7b698cd-0a17-4fd5-84a4-1a9fd056c557",
   "metadata": {},
   "outputs": [],
   "source": [
    "class class1 :\n",
    "    def test_class1(self):\n",
    "        return\"this is my first class1\""
   ]
  },
  {
   "cell_type": "code",
   "execution_count": 53,
   "id": "e510f023-d012-4404-baab-67f39b630e9c",
   "metadata": {},
   "outputs": [],
   "source": [
    "class class2 :\n",
    "    def test_class2(self):\n",
    "        return \"this is my class2\""
   ]
  },
  {
   "cell_type": "code",
   "execution_count": 54,
   "id": "021f72f8-f3ab-4428-a089-3ef1bafa3049",
   "metadata": {},
   "outputs": [],
   "source": [
    "class class3(class1, class2):\n",
    "    pass"
   ]
  },
  {
   "cell_type": "code",
   "execution_count": 55,
   "id": "7107c0ef-4fa9-4163-9e73-f46b518559eb",
   "metadata": {},
   "outputs": [],
   "source": [
    "obj_class3 = class3()"
   ]
  },
  {
   "cell_type": "code",
   "execution_count": 56,
   "id": "6b12a40a-8527-4b6e-a1ee-9730e8f98c25",
   "metadata": {},
   "outputs": [
    {
     "data": {
      "text/plain": [
       "'this is my first class1'"
      ]
     },
     "execution_count": 56,
     "metadata": {},
     "output_type": "execute_result"
    }
   ],
   "source": [
    "obj_class3.test_class1()"
   ]
  },
  {
   "cell_type": "code",
   "execution_count": 57,
   "id": "c9e901ee-ca02-4b60-b31e-503ce2288d7f",
   "metadata": {},
   "outputs": [
    {
     "data": {
      "text/plain": [
       "'this is my class2'"
      ]
     },
     "execution_count": 57,
     "metadata": {},
     "output_type": "execute_result"
    }
   ],
   "source": [
    "obj_class3.test_class2()"
   ]
  },
  {
   "cell_type": "code",
   "execution_count": null,
   "id": "2b441301-9b4e-42fa-ad73-683f869c9a3d",
   "metadata": {},
   "outputs": [],
   "source": []
  }
 ],
 "metadata": {
  "kernelspec": {
   "display_name": "Python 3 (ipykernel)",
   "language": "python",
   "name": "python3"
  },
  "language_info": {
   "codemirror_mode": {
    "name": "ipython",
    "version": 3
   },
   "file_extension": ".py",
   "mimetype": "text/x-python",
   "name": "python",
   "nbconvert_exporter": "python",
   "pygments_lexer": "ipython3",
   "version": "3.10.8"
  }
 },
 "nbformat": 4,
 "nbformat_minor": 5
}
